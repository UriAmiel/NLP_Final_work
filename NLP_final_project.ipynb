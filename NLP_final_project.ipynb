{
  "nbformat": 4,
  "nbformat_minor": 0,
  "metadata": {
    "colab": {
      "name": "NLP_final_project.ipynb",
      "provenance": [],
      "collapsed_sections": []
    },
    "kernelspec": {
      "name": "python3",
      "display_name": "Python 3"
    }
  },
  "cells": [
    {
      "cell_type": "markdown",
      "source": [
        "**Yuval Israel Adir and Uri Amiel shared CoLab.**\n",
        "\n",
        "In this notebook we have trained models in order to solve a problem of offensive language detection as part of Natural Lanuguage Proccessing class in Reichman University."
      ],
      "metadata": {
        "id": "6eF4Huhexe3w"
      }
    },
    {
      "metadata": {
        "id": "85WHvVp8V4Yd"
      },
      "cell_type": "markdown",
      "source": [
        "# Initiallization\n"
      ]
    },
    {
      "metadata": {
        "id": "M7KSLpoyTwIE"
      },
      "cell_type": "code",
      "source": [
        "from collections import Counter\n",
        "\n",
        "import matplotlib.pyplot as plt\n",
        "import pandas as pd\n",
        "import numpy as np\n",
        "import scipy\n",
        "import spacy\n",
        "import re\n",
        "import os\n",
        "\n",
        "import logging\n",
        "from gensim.models import FastText\n",
        "logging.basicConfig(format='%(asctime)s : %(levelname)s : %(message)s', level=logging.INFO)\n",
        "\n",
        "from sklearn.feature_extraction.text import CountVectorizer\n",
        "from sklearn.ensemble import RandomForestClassifier\n",
        "from sklearn.metrics import classification_report\n",
        "from sklearn.model_selection import train_test_split\n",
        "from sklearn.utils import shuffle\n",
        "from sklearn.metrics import f1_score\n",
        "\n",
        "import keras\n",
        "from keras.models import Model\n",
        "from keras.layers import Dropout, Conv1D, MaxPooling1D, LSTM,Concatenate, Dense, GlobalMaxPooling1D,GlobalAveragePooling1D, Lambda, Input, Bidirectional, GRU, concatenate, SpatialDropout1D, Reshape, merge\n",
        "from keras.layers.embeddings import Embedding\n",
        "from keras.preprocessing.text import Tokenizer\n",
        "from tensorflow.keras.optimizers import Adam\n",
        "from keras.preprocessing.sequence import pad_sequences"
      ],
      "execution_count": null,
      "outputs": []
    },
    {
      "cell_type": "code",
      "source": [
        "!pip install GPyOpt\n",
        "import GPyOpt"
      ],
      "metadata": {
        "colab": {
          "base_uri": "https://localhost:8080/"
        },
        "id": "pQ-IzO8Trqae",
        "outputId": "2591e476-ade2-4db8-a1e1-84d636d0a4ac"
      },
      "execution_count": null,
      "outputs": [
        {
          "output_type": "stream",
          "name": "stdout",
          "text": [
            "Looking in indexes: https://pypi.org/simple, https://us-python.pkg.dev/colab-wheels/public/simple/\n",
            "Requirement already satisfied: GPyOpt in /usr/local/lib/python3.7/dist-packages (1.2.6)\n",
            "Requirement already satisfied: numpy>=1.7 in /usr/local/lib/python3.7/dist-packages (from GPyOpt) (1.21.6)\n",
            "Requirement already satisfied: GPy>=1.8 in /usr/local/lib/python3.7/dist-packages (from GPyOpt) (1.10.0)\n",
            "Requirement already satisfied: scipy>=0.16 in /usr/local/lib/python3.7/dist-packages (from GPyOpt) (1.7.3)\n",
            "Requirement already satisfied: six in /usr/local/lib/python3.7/dist-packages (from GPy>=1.8->GPyOpt) (1.15.0)\n",
            "Requirement already satisfied: paramz>=0.9.0 in /usr/local/lib/python3.7/dist-packages (from GPy>=1.8->GPyOpt) (0.9.5)\n",
            "Requirement already satisfied: cython>=0.29 in /usr/local/lib/python3.7/dist-packages (from GPy>=1.8->GPyOpt) (0.29.32)\n",
            "Requirement already satisfied: decorator>=4.0.10 in /usr/local/lib/python3.7/dist-packages (from paramz>=0.9.0->GPy>=1.8->GPyOpt) (4.4.2)\n"
          ]
        }
      ]
    },
    {
      "metadata": {
        "id": "rwt-IOqnEpzB"
      },
      "cell_type": "markdown",
      "source": [
        "# Preprocess the data"
      ]
    },
    {
      "cell_type": "code",
      "source": [
        "def read_csv_file(file_name):\n",
        "  return pd.read_csv(file_name, sep = \"\\t\", header = 0)"
      ],
      "metadata": {
        "id": "ZoyTznCe0rZq"
      },
      "execution_count": null,
      "outputs": []
    },
    {
      "metadata": {
        "id": "IzRCYmAqcuWK"
      },
      "cell_type": "code",
      "source": [
        "test_data_a = read_csv_file(\"testset-levela.tsv\")\n",
        "test_data_b = read_csv_file(\"testset-levelb.tsv\")\n",
        "test_data_c = read_csv_file(\"testset-levelc.tsv\")\n",
        "\n",
        "data = read_csv_file(\"olid-training-v1.0.tsv\")"
      ],
      "execution_count": null,
      "outputs": []
    },
    {
      "metadata": {
        "id": "6ordEAKsEpzD"
      },
      "cell_type": "markdown",
      "source": [
        "## Cleaning the data"
      ]
    },
    {
      "cell_type": "code",
      "source": [
        "def sub_word(word):\n",
        "    word = re.sub(\"[#@]\", \"\", word)\n",
        "    word = re.sub(\"!\", \" !\", word)\n",
        "    word = re.sub(\"[?]\", \" ?\", word)\n",
        "    return word"
      ],
      "metadata": {
        "id": "L9CSyJxQ22Lu"
      },
      "execution_count": null,
      "outputs": []
    },
    {
      "metadata": {
        "id": "BFtJMFsBEpzJ"
      },
      "cell_type": "code",
      "source": [
        "def clean_data(phrase):\n",
        "    splitted_phrase = phrase.lower().split()\n",
        "    clean_phrases = []\n",
        "    user_count = 0\n",
        "    prev = None\n",
        "    for word in splitted_phrase:\n",
        "        word = sub_word(word)\n",
        "\n",
        "        if (word == \"user\"):\n",
        "            user_count += 1\n",
        "            if (prev == \"user\"):\n",
        "                pass\n",
        "        else:    \n",
        "            clean_phrases.append(word)\n",
        "        prev = word\n",
        "    return \" \".join(clean_phrases), user_count"
      ],
      "execution_count": null,
      "outputs": []
    },
    {
      "metadata": {
        "id": "g9AZLjK6EpzP"
      },
      "cell_type": "code",
      "source": [
        "data = data.merge(data.tweet.apply(lambda x:pd.Series({'clean':clean_data(x)[0], 'user_count': clean_data(x)[1]})), left_index=True, right_index=True)\n",
        "max_user_count = data[\"user_count\"].max()\n",
        "data[\"user_count\"] = data[\"user_count\"].apply(lambda x: x / max_user_count)"
      ],
      "execution_count": null,
      "outputs": []
    },
    {
      "cell_type": "code",
      "source": [
        "def get_datas():\n",
        "    return data[data[\"subtask_a\"].notna()],data[data[\"subtask_b\"].notna()],data[data[\"subtask_c\"].notna()] \n",
        "\n",
        "data_a , data_b , data_c = get_datas()"
      ],
      "metadata": {
        "id": "ukdsmxy055V6"
      },
      "execution_count": null,
      "outputs": []
    },
    {
      "cell_type": "code",
      "source": [
        "def get_x_and_label(data, subtask):\n",
        "    return data[[\"clean\", \"user_count\"]], data[subtask]\n",
        "\n",
        "X_a, label_a = get_x_and_label(data_a, \"subtask_a\")\n",
        "X_b, label_b = get_x_and_label(data_b, \"subtask_b\")\n",
        "X_c, label_c = get_x_and_label(data_c, \"subtask_c\")"
      ],
      "metadata": {
        "id": "aEE6K13c57MS"
      },
      "execution_count": null,
      "outputs": []
    },
    {
      "cell_type": "code",
      "source": [
        "def get_labels():\n",
        "    return {'OFF': 0, 'NOT': 1}, {'UNT': 0, 'TIN': 1}, {'IND': 0, 'OTH': 1, 'GRP': 2}\n",
        "\n",
        "label_to_number_a, label_to_number_b, label_to_number_c = get_labels()\n"
      ],
      "metadata": {
        "id": "HnjDbiLv5m6S"
      },
      "execution_count": null,
      "outputs": []
    },
    {
      "cell_type": "code",
      "source": [
        "def get_number_to_label(label_to_number):\n",
        "    return {v:k for k, v in label_to_number.items()}\n",
        "\n",
        "number_to_label_a = get_number_to_label(label_to_number_a)\n",
        "number_to_label_b = get_number_to_label(label_to_number_b)\n",
        "number_to_label_c = get_number_to_label(label_to_number_c)"
      ],
      "metadata": {
        "id": "B0e4rPee6CT6"
      },
      "execution_count": null,
      "outputs": []
    },
    {
      "cell_type": "code",
      "source": [
        "binary_labels_a = data_a.subtask_a.apply(lambda x:label_to_number_a[x])\n",
        "binary_labels_b = data_b.subtask_b.apply(lambda x:label_to_number_b[x])\n",
        "binary_labels_c = data_c.subtask_c.apply(lambda x:label_to_number_c[x])"
      ],
      "metadata": {
        "id": "ZaGTT6Gk6cal"
      },
      "execution_count": null,
      "outputs": []
    },
    {
      "cell_type": "code",
      "source": [
        "tokenizer = Tokenizer()\n",
        "tokenizer.fit_on_texts(data.clean)\n",
        "sequences = tokenizer.texts_to_sequences(data.clean)\n",
        "seq = pad_sequences(sequences)\n",
        "\n",
        "max_seq = len(seq[0])"
      ],
      "metadata": {
        "id": "cIm_5zOKcRfC"
      },
      "execution_count": null,
      "outputs": []
    },
    {
      "metadata": {
        "id": "sm2INbOYUhi_"
      },
      "cell_type": "code",
      "source": [
        "def build_seq(dataset):\n",
        "  sequences = tokenizer.texts_to_sequences(dataset.clean)\n",
        "  return pad_sequences(sequences, maxlen=max_seq)"
      ],
      "execution_count": null,
      "outputs": []
    },
    {
      "metadata": {
        "id": "LG9b5x9-Ep0B"
      },
      "cell_type": "code",
      "source": [
        "test_size = 0.2\n",
        "X_train_a, X_test_a, count_train_a, count_test_a, y_train_a, y_test_a = train_test_split(build_seq(X_a), X_a.user_count, binary_labels_a, test_size=test_size)\n",
        "X_train_b, X_test_b, count_train_b, count_test_b, y_train_b, y_test_b = train_test_split(build_seq(X_b), X_b.user_count, binary_labels_b, test_size=test_size)\n",
        "X_train_c, X_test_c, count_train_c, count_test_c, y_train_c, y_test_c = train_test_split(build_seq(X_c), X_c.user_count, binary_labels_c, test_size=test_size)"
      ],
      "execution_count": null,
      "outputs": []
    },
    {
      "metadata": {
        "id": "KbJtpbzoUXU-",
        "outputId": "44eddea7-ad69-40db-def2-9e4e4332b9d8",
        "colab": {
          "base_uri": "https://localhost:8080/",
          "height": 281
        }
      },
      "cell_type": "code",
      "source": [
        "plt.figure(figsize = (12,4))\n",
        "plt.subplot(131)\n",
        "y_train_a_counter = Counter(y_train_a)\n",
        "plt.bar(list(y_train_a_counter.keys()), list(y_train_a_counter.values()))\n",
        "plt.xticks(range(len(y_train_a_counter)), label_to_number_a)\n",
        "plt.title(\"Labels distribition in OLID task A\");\n",
        "plt.subplot(132)\n",
        "y_train_b_counter = Counter(y_train_b)\n",
        "plt.bar(list(y_train_b_counter.keys()), list(y_train_b_counter.values()))\n",
        "plt.xticks(range(len(y_train_b_counter)), label_to_number_b)\n",
        "plt.title(\"Labels distribition in OLID task B\");\n",
        "plt.subplot(133)\n",
        "y_train_c_counter = Counter(y_train_c)\n",
        "plt.bar(list(y_train_c_counter.keys()), list(y_train_c_counter.values()))\n",
        "plt.xticks(range(len(y_train_c_counter)), label_to_number_c)\n",
        "plt.title(\"Labels distribition in OLID task C\");"
      ],
      "execution_count": null,
      "outputs": [
        {
          "output_type": "display_data",
          "data": {
            "text/plain": [
              "<Figure size 864x288 with 3 Axes>"
            ],
            "image/png": "[encoded data removed]"
          },
          "metadata": {
            "needs_background": "light"
          }
        }
      ]
    },
    {
      "metadata": {
        "id": "F_CvqlHSTy7L"
      },
      "cell_type": "markdown",
      "source": [
        "## Over or Under sampaling"
      ]
    },
    {
      "metadata": {
        "id": "7b8GfO0hbiLo"
      },
      "cell_type": "markdown",
      "source": [
        "The dataset is highly imbalanced, so we decide to combine oversampling and undersampling in order to have balanced dataset"
      ]
    },
    {
      "metadata": {
        "id": "dmAXzTxpFxWs"
      },
      "cell_type": "code",
      "source": [
        "def same_size_data(X_train, count_train, y_train, ratio_down_over_up=0.5):\n",
        "  X_train = list(X_train)\n",
        "  count_train = list(count_train)\n",
        "  y_train = list(y_train)\n",
        "  \n",
        "  n_cat = len(Counter(y_train))\n",
        "  \n",
        "  sorted_counter = Counter(y_train).most_common()\n",
        "  max_cat = sorted_counter[0][1]\n",
        "  min_cat = sorted_counter[-1][1]\n",
        "  \n",
        "  target = min_cat + (1-ratio_down_over_up)*(max_cat - min_cat)\n",
        "  \n",
        "  for i in range(n_cat):\n",
        "    diff = int(sorted_counter[i][1] - target)\n",
        "    k = 0\n",
        "    if diff > 0:\n",
        "      rm = 0    \n",
        "      while rm <= diff:\n",
        "        if(y_train[k] == sorted_counter[i][0]):\n",
        "          X_train.pop(k)\n",
        "          y_train.pop(k)\n",
        "          count_train.pop(k)\n",
        "          rm += 1\n",
        "          k -=1\n",
        "        k += 1\n",
        "    else:\n",
        "      ad = 0\n",
        "      while ad <= -diff:\n",
        "        if(y_train[k] == sorted_counter[i][0]):\n",
        "          X_train.append(X_train[k])\n",
        "          y_train.append(y_train[k])\n",
        "          count_train.append(count_train[k])\n",
        "          ad += 1\n",
        "        k += 1\n",
        "        \n",
        "  return X_train, count_train, y_train"
      ],
      "execution_count": null,
      "outputs": []
    },
    {
      "metadata": {
        "id": "89h_sv8ENoZ3"
      },
      "cell_type": "code",
      "source": [
        "X_train_a, count_train_a, y_train_a = same_size_data(X_train_a, count_train_a, y_train_a, 0.3)\n",
        "X_train_a, count_train_a, y_train_a = shuffle(X_train_a, count_train_a, y_train_a)\n",
        "X_train_b, count_train_b, y_train_b = same_size_data(X_train_b, count_train_b, y_train_b, 0.2)\n",
        "X_train_b, count_train_b, y_train_b = shuffle(X_train_b, count_train_b, y_train_b)\n",
        "X_train_c, count_train_c, y_train_c = same_size_data(X_train_c, count_train_c, y_train_c, 0.7)\n",
        "X_train_c, count_train_c, y_train_c = shuffle(X_train_c, count_train_c, y_train_c)"
      ],
      "execution_count": null,
      "outputs": []
    },
    {
      "metadata": {
        "id": "FZNnUhQREp0P",
        "outputId": "20447a1c-fc5f-4846-ca33-9c32b98fbda3",
        "colab": {
          "base_uri": "https://localhost:8080/",
          "height": 281
        }
      },
      "cell_type": "code",
      "source": [
        "plt.figure(figsize = (12,4))\n",
        "plt.subplot(131)\n",
        "cat_a = Counter(y_train_a)\n",
        "plt.bar(list(cat_a.keys()), list(cat_a.values()))\n",
        "plt.xticks(range(len(cat_a)), label_to_number_a)\n",
        "plt.title(\"Labels distribition in OLID task A\");\n",
        "plt.subplot(132)\n",
        "cat_b = Counter(y_train_b)\n",
        "plt.bar(list(cat_b.keys()), list(cat_b.values()))\n",
        "plt.xticks(range(len(cat_b)), label_to_number_b)\n",
        "plt.title(\"Labels distribition in OLID task B\");\n",
        "plt.subplot(133)\n",
        "cat_c = Counter(y_train_c)\n",
        "plt.bar(list(cat_c.keys()), list(cat_c.values()))\n",
        "plt.xticks(range(len(cat_c)), label_to_number_c)\n",
        "plt.title(\"Labels distribition in OLID task C\");"
      ],
      "execution_count": null,
      "outputs": [
        {
          "output_type": "display_data",
          "data": {
            "text/plain": [
              "<Figure size 864x288 with 3 Axes>"
            ],
            "image/png": "[encoded data removed]"
          },
          "metadata": {
            "needs_background": "light"
          }
        }
      ]
    },
    {
      "metadata": {
        "id": "S_tG8t1XEpzl"
      },
      "cell_type": "markdown",
      "source": [
        "# Bag-of-Words"
      ]
    },
    {
      "metadata": {
        "id": "4jpALithSbb4"
      },
      "cell_type": "markdown",
      "source": [
        "In order to determine the ration of undersampling and oversampling, we use a Random Forest Classier in different ratio and perform a cross-validation."
      ]
    },
    {
      "cell_type": "code",
      "source": [
        "TEST_SIZE = 0.2\n",
        "RUNNING_RANGE = 9 # not recommended to change"
      ],
      "metadata": {
        "id": "tgz34dfCIXHu"
      },
      "execution_count": null,
      "outputs": []
    },
    {
      "cell_type": "code",
      "source": [
        "def get_bag_of_words_sum(count_test, label_test, rf, transformed_test):\n",
        "    sum = 0\n",
        "    for key, elem in classification_report(\n",
        "            rf.predict(scipy.sparse.hstack([transformed_test, scipy.sparse.coo_matrix(np.array(count_test)[:, None])])),\n",
        "            label_test, output_dict=True).items():\n",
        "        classification_report_result = classification_report(\n",
        "            rf.predict(scipy.sparse.hstack([transformed_test, scipy.sparse.coo_matrix(np.array(count_test)[:, None])])),\n",
        "            label_test, output_dict=True)[key]\n",
        "        if key != 'accuracy':\n",
        "            sum += classification_report_result[\"f1-score\"]\n",
        "    return sum"
      ],
      "metadata": {
        "id": "bunGVbZuiurW"
      },
      "execution_count": null,
      "outputs": []
    },
    {
      "cell_type": "code",
      "source": [
        "def seq_to_text(x):\n",
        "  return tokenizer.sequences_to_texts(x)"
      ],
      "metadata": {
        "id": "5c6Lbv_EHlNu"
      },
      "execution_count": null,
      "outputs": []
    },
    {
      "cell_type": "code",
      "source": [
        "def get_transformed_data(tweets_train, tweets_test):\n",
        "  v = CountVectorizer()\n",
        "  return v.fit_transform(tweets_train), v.transform(tweets_test)"
      ],
      "metadata": {
        "id": "_3PZ13zHH4th"
      },
      "execution_count": null,
      "outputs": []
    },
    {
      "cell_type": "code",
      "source": [
        "def get_fit_classifier(transformed_train, counts_train, label_train):\n",
        "  rf = RandomForestClassifier()\n",
        "  rf.fit(scipy.sparse.hstack([transformed_train,  scipy.sparse.coo_matrix(np.array(counts_train)[:, None])]), label_train)\n",
        "  return rf"
      ],
      "metadata": {
        "id": "w0BXG5AbJnS9"
      },
      "execution_count": null,
      "outputs": []
    },
    {
      "metadata": {
        "id": "-ek4JjdBP3U9"
      },
      "cell_type": "code",
      "source": [
        "def tune_sampling(tweets_train, counts_train, label_train, tweets_test, count_test, label_test, should_print=False):\n",
        "  tweets_train = seq_to_text(tweets_train)\n",
        "  tweets_test = seq_to_text(tweets_test)\n",
        "\n",
        "  transformed_train, transformed_test = get_transformed_data(tweets_train, tweets_test)\n",
        "  rf = get_fit_classifier(transformed_train, counts_train, label_train)\n",
        "\n",
        "  if (should_print):\n",
        "    print(classification_report(rf.predict(scipy.sparse.hstack([transformed_test,  scipy.sparse.coo_matrix(np.array(count_test)[:, None])])), label_test))\n",
        "  else:\n",
        "    return get_bag_of_words_sum(count_test, label_test, rf, transformed_test)\n"
      ],
      "execution_count": null,
      "outputs": []
    },
    {
      "cell_type": "code",
      "source": [
        "a_score = 0\n",
        "b_score = 0\n",
        "c_score = 0\n",
        "\n",
        "best_a_ratio = 0.1\n",
        "best_b_ratio = 0.1\n",
        "best_c_ratio = 0.1"
      ],
      "metadata": {
        "id": "ec7z-J1gjYOQ"
      },
      "execution_count": null,
      "outputs": []
    },
    {
      "metadata": {
        "id": "T9bdrHuCPyIX"
      },
      "cell_type": "code",
      "source": [
        "for i in range(RUNNING_RANGE):\n",
        "  \n",
        "  temp_ratio = 0.1+i*0.1\n",
        "\n",
        "  X_train_a, X_test_a, count_train_a, count_test_a, y_train_a, y_test_a = train_test_split(build_seq(X_a), X_a.user_count, binary_labels_a, test_size=TEST_SIZE)\n",
        "  X_train_b, X_test_b, count_train_b, count_test_b, y_train_b, y_test_b = train_test_split(build_seq(X_b), X_b.user_count, binary_labels_b, test_size=TEST_SIZE)\n",
        "  X_train_c, X_test_c, count_train_c, count_test_c, y_train_c, y_test_c = train_test_split(build_seq(X_c), X_c.user_count, binary_labels_c, test_size=TEST_SIZE)\n",
        "\n",
        "  X_train_a, count_train_a, y_train_a = same_size_data(X_train_a, count_train_a, y_train_a, temp_ratio)\n",
        "  X_train_a, count_train_a, y_train_a = shuffle(X_train_a, count_train_a, y_train_a)\n",
        "  X_train_b, count_train_b, y_train_b = same_size_data(X_train_b, count_train_b, y_train_b, temp_ratio)\n",
        "  X_train_b, count_train_b, y_train_b = shuffle(X_train_b, count_train_b, y_train_b)\n",
        "  X_train_c, count_train_c, y_train_c = same_size_data(X_train_c, count_train_c, y_train_c, temp_ratio)\n",
        "  X_train_c, count_train_c, y_train_c = shuffle(X_train_c, count_train_c, y_train_c)\n",
        "  \n",
        "  a_tune = tune_sampling(X_train_a, count_train_a, y_train_a, X_test_a, count_test_a, y_test_a)\n",
        "  b_tune = tune_sampling(X_train_b, count_train_b, y_train_b, X_test_b, count_test_b, y_test_b)\n",
        "  c_tune = tune_sampling(X_train_c, count_train_c, y_train_c, X_test_c, count_test_c, y_test_c)\n",
        "  \n",
        "  if(a_tune > a_score):\n",
        "    best_a_ratio = temp_ratio\n",
        "    a_score = a_tune\n",
        "  if(b_tune > b_score):\n",
        "    best_b_ratio = temp_ratio\n",
        "    b_score = b_tune\n",
        "  if(c_tune > c_score):\n",
        "    best_c_ratio = temp_ratio\n",
        "    c_score = c_tune"
      ],
      "execution_count": null,
      "outputs": []
    },
    {
      "metadata": {
        "id": "HdWFGtRTEpzn",
        "colab": {
          "base_uri": "https://localhost:8080/"
        },
        "outputId": "29f185d8-4466-4dc6-873a-3ccfd10ee4b1"
      },
      "cell_type": "code",
      "source": [
        "tune_sampling(X_train_a, count_train_a ,y_train_a, X_test_a, count_test_a ,y_test_a,True)\n",
        "tune_sampling(X_train_b,count_train_b ,y_train_b, X_test_b,count_test_b ,y_test_b,True)\n",
        "tune_sampling(X_train_c,count_train_c ,y_train_c, X_test_c,count_test_c ,y_test_c,True)"
      ],
      "execution_count": null,
      "outputs": [
        {
          "output_type": "stream",
          "name": "stdout",
          "text": [
            "              precision    recall  f1-score   support\n",
            "\n",
            "           0       0.61      0.64      0.63       837\n",
            "           1       0.83      0.82      0.82      1811\n",
            "\n",
            "    accuracy                           0.76      2648\n",
            "   macro avg       0.72      0.73      0.72      2648\n",
            "weighted avg       0.76      0.76      0.76      2648\n",
            "\n",
            "              precision    recall  f1-score   support\n",
            "\n",
            "           0       0.47      0.24      0.32       209\n",
            "           1       0.79      0.92      0.85       671\n",
            "\n",
            "    accuracy                           0.76       880\n",
            "   macro avg       0.63      0.58      0.58       880\n",
            "weighted avg       0.72      0.76      0.72       880\n",
            "\n",
            "              precision    recall  f1-score   support\n",
            "\n",
            "           0       0.79      0.83      0.81       457\n",
            "           1       0.19      0.24      0.21        59\n",
            "           2       0.69      0.58      0.63       260\n",
            "\n",
            "    accuracy                           0.70       776\n",
            "   macro avg       0.56      0.55      0.55       776\n",
            "weighted avg       0.71      0.70      0.70       776\n",
            "\n"
          ]
        }
      ]
    },
    {
      "metadata": {
        "id": "dcq6yjP0Ep0c"
      },
      "cell_type": "markdown",
      "source": [
        "# Train embeddings"
      ]
    },
    {
      "metadata": {
        "id": "5VHWtgsHA44N"
      },
      "cell_type": "code",
      "source": [
        "EMBEDDING_SIZE = 100\n",
        "WINDOW = 5\n",
        "WORKERS = 4\n",
        "ITER = 40\n",
        "EPOCHS = 11"
      ],
      "execution_count": null,
      "outputs": []
    },
    {
      "cell_type": "code",
      "source": [
        "def get_preprocessed_data(data):\n",
        "  sequences = tokenizer.texts_to_sequences(data.clean)\n",
        "  seq = pad_sequences(sequences)\n",
        "  return tokenizer.sequences_to_texts(seq)"
      ],
      "metadata": {
        "id": "LWl71_jsL09x"
      },
      "execution_count": null,
      "outputs": []
    },
    {
      "cell_type": "code",
      "source": [
        "def get_sentences():\n",
        "  preprocessed = get_preprocessed_data(data)\n",
        "  return [t.split() for t in preprocessed]"
      ],
      "metadata": {
        "id": "u7hPW-71Mlxl"
      },
      "execution_count": null,
      "outputs": []
    },
    {
      "metadata": {
        "id": "rbWhu7IqEp0d"
      },
      "cell_type": "code",
      "source": [
        "sentences = get_sentences()"
      ],
      "execution_count": null,
      "outputs": []
    },
    {
      "metadata": {
        "id": "sk-M0ibUcgd4"
      },
      "cell_type": "code",
      "source": [
        "model = FastText(sentences, size=EMBEDDING_SIZE, window=WINDOW, min_count=1, workers=WORKERS, iter = ITER)"
      ],
      "execution_count": null,
      "outputs": []
    },
    {
      "metadata": {
        "id": "hgZ1yOonEp0v"
      },
      "cell_type": "code",
      "source": [
        "vocabulary_size = len(tokenizer.word_index)"
      ],
      "execution_count": null,
      "outputs": []
    },
    {
      "metadata": {
        "id": "SWs6h82rEp00"
      },
      "cell_type": "code",
      "source": [
        "embedding_matrix = np.zeros((len(tokenizer.word_index)+1, EMBEDDING_SIZE))\n",
        "for word, i in tokenizer.word_index.items():\n",
        "    try:\n",
        "        embedding_vector = model.wv.word_vec(word) \n",
        "        if embedding_vector is not None:\n",
        "            embedding_matrix[i] = embedding_vector\n",
        "    except KeyError:\n",
        "        print(\"KeyError, with \", word)"
      ],
      "execution_count": null,
      "outputs": []
    },
    {
      "metadata": {
        "id": "wn-BFddD4cjG"
      },
      "cell_type": "markdown",
      "source": [
        "# CNN"
      ]
    },
    {
      "cell_type": "code",
      "source": [
        "TASK_A_EPOCHS = 10 \n",
        "TASK_B_EPOCHS = 9 \n",
        "TASK_C_EPOCHS = 6\n",
        "BATCH_SIZE = 20"
      ],
      "metadata": {
        "id": "o5ISaT-VQW7V"
      },
      "execution_count": null,
      "outputs": []
    },
    {
      "cell_type": "code",
      "source": [
        "# UNCHANGABLE, CONSTS\n",
        "LOSS_FUNC = 'binary_crossentropy'\n",
        "OPTIMIZER = 'adam'\n",
        "METRICS_D = 'accuracy'\n",
        "TASK_A_TARGET_NAMES = ['OFF', 'NOT']\n",
        "TASK_B_TARGET_NAMES = ['UNT', 'TIN']\n",
        "TASK_C_TARGET_NAMES = ['IND', 'OTH', 'GRP']"
      ],
      "metadata": {
        "id": "WIhmgA-IQX2H"
      },
      "execution_count": null,
      "outputs": []
    },
    {
      "cell_type": "code",
      "source": [
        "def get_y_value_and_input(vocabulary_size, embedding_matrix, max_seq, inp):\n",
        "  val = Embedding(vocabulary_size + 1, EMBEDDING_SIZE, weights = [embedding_matrix], input_length=max_seq, trainable = True)(inp)\n",
        "  val = Dropout(0.5)(val)\n",
        "  val = Conv1D(64, 4, activation='relu')(val)\n",
        "  val = GlobalMaxPooling1D()(val)\n",
        "  val = Dense(10, activation ='relu')(val)\n",
        "  return val"
      ],
      "metadata": {
        "id": "N1Vl25mbPXko"
      },
      "execution_count": null,
      "outputs": []
    },
    {
      "metadata": {
        "id": "z9Gp6GErEp08"
      },
      "cell_type": "code",
      "source": [
        "inp = Input(shape = (max_seq,))\n",
        "val = get_y_value_and_input(vocabulary_size, embedding_matrix, max_seq, inp)"
      ],
      "execution_count": null,
      "outputs": []
    },
    {
      "cell_type": "code",
      "source": [
        "first_classfication = Dense(1, activation ='sigmoid')(val)\n",
        "second_classification = Dense(3, activation ='sigmoid')(val)"
      ],
      "metadata": {
        "id": "OMPhyYoMnm33"
      },
      "execution_count": null,
      "outputs": []
    },
    {
      "metadata": {
        "id": "-Yyxow9jT5Hh"
      },
      "cell_type": "markdown",
      "source": [
        "Task A"
      ]
    },
    {
      "metadata": {
        "id": "M_IUjogBEp1B",
        "colab": {
          "base_uri": "https://localhost:8080/"
        },
        "outputId": "635fd4e7-b0c5-4eca-89f9-484edeef60b2"
      },
      "cell_type": "code",
      "source": [
        "model_conv_a = Model(inputs = inp, outputs = first_classfication)\n",
        "model_conv_a.compile(loss = LOSS_FUNC, optimizer=OPTIMIZER, metrics=[METRICS_D] )\n",
        "model_conv_a.summary()"
      ],
      "execution_count": null,
      "outputs": [
        {
          "output_type": "stream",
          "name": "stdout",
          "text": [
            "Model: \"model_19\"\n",
            "_________________________________________________________________\n",
            " Layer (type)                Output Shape              Param #   \n",
            "=================================================================\n",
            " input_11 (InputLayer)       [(None, 62)]              0         \n",
            "                                                                 \n",
            " embedding_10 (Embedding)    (None, 62, 100)           2125100   \n",
            "                                                                 \n",
            " dropout_2 (Dropout)         (None, 62, 100)           0         \n",
            "                                                                 \n",
            " conv1d_10 (Conv1D)          (None, 59, 64)            25664     \n",
            "                                                                 \n",
            " global_max_pooling1d_10 (Gl  (None, 64)               0         \n",
            " obalMaxPooling1D)                                               \n",
            "                                                                 \n",
            " dense_24 (Dense)            (None, 10)                650       \n",
            "                                                                 \n",
            " dense_25 (Dense)            (None, 1)                 11        \n",
            "                                                                 \n",
            "=================================================================\n",
            "Total params: 2,151,425\n",
            "Trainable params: 2,151,425\n",
            "Non-trainable params: 0\n",
            "_________________________________________________________________\n"
          ]
        }
      ]
    },
    {
      "metadata": {
        "id": "Kaestft8Ep1F",
        "colab": {
          "base_uri": "https://localhost:8080/"
        },
        "outputId": "06929507-0a17-4f5a-c6ac-506a241e0321"
      },
      "cell_type": "code",
      "source": [
        "model_conv_a.fit(np.array(X_train_a), np.array(y_train_a), validation_data=(X_test_a,y_test_a), epochs = TASK_A_EPOCHS)"
      ],
      "execution_count": null,
      "outputs": [
        {
          "output_type": "stream",
          "name": "stdout",
          "text": [
            "Epoch 1/10\n",
            "243/243 [==============================] - 26s 47ms/step - loss: 0.7359 - accuracy: 0.4992 - val_loss: 0.6872 - val_accuracy: 0.3614\n",
            "Epoch 2/10\n",
            "243/243 [==============================] - 11s 46ms/step - loss: 0.6933 - accuracy: 0.5196 - val_loss: 0.6889 - val_accuracy: 0.3784\n",
            "Epoch 3/10\n",
            "243/243 [==============================] - 11s 44ms/step - loss: 0.6893 - accuracy: 0.5299 - val_loss: 0.6778 - val_accuracy: 0.4373\n",
            "Epoch 4/10\n",
            "243/243 [==============================] - 10s 42ms/step - loss: 0.6859 - accuracy: 0.5485 - val_loss: 0.6833 - val_accuracy: 0.4275\n",
            "Epoch 5/10\n",
            "243/243 [==============================] - 10s 40ms/step - loss: 0.6811 - accuracy: 0.5547 - val_loss: 0.6631 - val_accuracy: 0.5121\n",
            "Epoch 6/10\n",
            "243/243 [==============================] - 11s 44ms/step - loss: 0.6740 - accuracy: 0.5751 - val_loss: 0.6457 - val_accuracy: 0.5650\n",
            "Epoch 7/10\n",
            "243/243 [==============================] - 9s 36ms/step - loss: 0.6636 - accuracy: 0.5908 - val_loss: 0.6622 - val_accuracy: 0.5325\n",
            "Epoch 8/10\n",
            "243/243 [==============================] - 11s 43ms/step - loss: 0.6501 - accuracy: 0.6063 - val_loss: 0.6514 - val_accuracy: 0.5404\n",
            "Epoch 9/10\n",
            "243/243 [==============================] - 10s 43ms/step - loss: 0.6438 - accuracy: 0.6165 - val_loss: 0.6260 - val_accuracy: 0.5963\n",
            "Epoch 10/10\n",
            "243/243 [==============================] - 10s 42ms/step - loss: 0.6301 - accuracy: 0.6253 - val_loss: 0.6148 - val_accuracy: 0.6110\n"
          ]
        },
        {
          "output_type": "execute_result",
          "data": {
            "text/plain": [
              "<keras.callbacks.History at 0x7f164d22ead0>"
            ]
          },
          "metadata": {},
          "execution_count": 127
        }
      ]
    },
    {
      "metadata": {
        "scrolled": true,
        "id": "I7NfP1CMEp1L",
        "colab": {
          "base_uri": "https://localhost:8080/"
        },
        "outputId": "fa20acd2-9cc2-44a7-90a7-48b715321ea9"
      },
      "cell_type": "code",
      "source": [
        "y_pred_a = model_conv_a.predict(X_test_a)\n",
        "print(classification_report(y_test_a, y_pred_a>0.5, target_names= TASK_A_TARGET_NAMES))"
      ],
      "execution_count": null,
      "outputs": [
        {
          "output_type": "stream",
          "name": "stdout",
          "text": [
            "              precision    recall  f1-score   support\n",
            "\n",
            "         OFF       0.44      0.68      0.54       869\n",
            "         NOT       0.79      0.58      0.67      1779\n",
            "\n",
            "    accuracy                           0.61      2648\n",
            "   macro avg       0.61      0.63      0.60      2648\n",
            "weighted avg       0.67      0.61      0.62      2648\n",
            "\n"
          ]
        }
      ]
    },
    {
      "metadata": {
        "id": "xSAjStlUTyM-"
      },
      "cell_type": "markdown",
      "source": [
        "Task B"
      ]
    },
    {
      "metadata": {
        "id": "t5ZevFQVEp1P",
        "colab": {
          "base_uri": "https://localhost:8080/"
        },
        "outputId": "565a90e8-3fbe-4e51-eaaa-deca2cd78459"
      },
      "cell_type": "code",
      "source": [
        "model_conv_b = Model(inputs = inp, outputs = first_classfication)\n",
        "model_conv_b.compile(loss=LOSS_FUNC, optimizer=OPTIMIZER, metrics=[METRICS_D] )\n",
        "model_conv_b.fit(np.array(X_train_b), np.array(y_train_b), validation_data=(X_test_b,y_test_b), epochs = TASK_B_EPOCHS)"
      ],
      "execution_count": null,
      "outputs": [
        {
          "output_type": "stream",
          "name": "stdout",
          "text": [
            "Epoch 1/9\n",
            "43/43 [==============================] - 3s 46ms/step - loss: 0.7006 - accuracy: 0.4909 - val_loss: 0.8002 - val_accuracy: 0.2250\n",
            "Epoch 2/9\n",
            "43/43 [==============================] - 2s 40ms/step - loss: 0.6790 - accuracy: 0.5127 - val_loss: 0.7258 - val_accuracy: 0.4580\n",
            "Epoch 3/9\n",
            "43/43 [==============================] - 2s 37ms/step - loss: 0.6604 - accuracy: 0.5564 - val_loss: 0.6859 - val_accuracy: 0.5818\n",
            "Epoch 4/9\n",
            "43/43 [==============================] - 2s 47ms/step - loss: 0.6474 - accuracy: 0.5980 - val_loss: 0.6755 - val_accuracy: 0.6080\n",
            "Epoch 5/9\n",
            "43/43 [==============================] - 2s 45ms/step - loss: 0.6273 - accuracy: 0.6256 - val_loss: 0.6371 - val_accuracy: 0.6568\n",
            "Epoch 6/9\n",
            "43/43 [==============================] - 2s 40ms/step - loss: 0.6082 - accuracy: 0.6540 - val_loss: 0.6413 - val_accuracy: 0.6614\n",
            "Epoch 7/9\n",
            "43/43 [==============================] - 2s 51ms/step - loss: 0.5987 - accuracy: 0.6577 - val_loss: 0.6478 - val_accuracy: 0.6409\n",
            "Epoch 8/9\n",
            "43/43 [==============================] - 2s 45ms/step - loss: 0.5789 - accuracy: 0.6810 - val_loss: 0.6200 - val_accuracy: 0.6841\n",
            "Epoch 9/9\n",
            "43/43 [==============================] - 2s 43ms/step - loss: 0.5733 - accuracy: 0.6795 - val_loss: 0.6019 - val_accuracy: 0.6898\n"
          ]
        },
        {
          "output_type": "execute_result",
          "data": {
            "text/plain": [
              "<keras.callbacks.History at 0x7f164e730c10>"
            ]
          },
          "metadata": {},
          "execution_count": 129
        }
      ]
    },
    {
      "metadata": {
        "id": "6UNQHkxvEp1X",
        "colab": {
          "base_uri": "https://localhost:8080/"
        },
        "outputId": "e929a829-fc18-4e23-a030-55e01269ced5"
      },
      "cell_type": "code",
      "source": [
        "y_pred_b = model_conv_b.predict(X_test_b)\n",
        "print(classification_report(y_test_b, y_pred_b>0.5, target_names = TASK_B_TARGET_NAMES))"
      ],
      "execution_count": null,
      "outputs": [
        {
          "output_type": "stream",
          "name": "stdout",
          "text": [
            "              precision    recall  f1-score   support\n",
            "\n",
            "         UNT       0.20      0.54      0.29       106\n",
            "         TIN       0.92      0.71      0.80       774\n",
            "\n",
            "    accuracy                           0.69       880\n",
            "   macro avg       0.56      0.62      0.55       880\n",
            "weighted avg       0.83      0.69      0.74       880\n",
            "\n"
          ]
        }
      ]
    },
    {
      "metadata": {
        "id": "LK2tH93PL_J5",
        "colab": {
          "base_uri": "https://localhost:8080/"
        },
        "outputId": "58c55130-b653-431c-9a6f-25a68fd79ab7"
      },
      "cell_type": "code",
      "source": [
        "model_conv_c = Model(inputs = inp, outputs = second_classification)\n",
        "model_conv_c.compile(loss=LOSS_FUNC, optimizer=OPTIMIZER, metrics=[METRICS_D] )\n",
        "dummy_labels_train = keras.utils.np_utils.to_categorical(y_train_c)\n",
        "dummy_labels_test = keras.utils.np_utils.to_categorical(y_test_c)\n",
        "model_conv_c.fit(np.array(X_train_c), dummy_labels_train, validation_data=(X_test_c,dummy_labels_test), epochs = TASK_C_EPOCHS, batch_size = BATCH_SIZE)"
      ],
      "execution_count": null,
      "outputs": [
        {
          "output_type": "stream",
          "name": "stdout",
          "text": [
            "Epoch 1/6\n",
            "73/73 [==============================] - 4s 40ms/step - loss: 0.6141 - accuracy: 0.4217 - val_loss: 0.5655 - val_accuracy: 0.3544\n",
            "Epoch 2/6\n",
            "73/73 [==============================] - 3s 45ms/step - loss: 0.6012 - accuracy: 0.4356 - val_loss: 0.5503 - val_accuracy: 0.3879\n",
            "Epoch 3/6\n",
            "73/73 [==============================] - 3s 40ms/step - loss: 0.5931 - accuracy: 0.4494 - val_loss: 0.5480 - val_accuracy: 0.4034\n",
            "Epoch 4/6\n",
            "73/73 [==============================] - 3s 38ms/step - loss: 0.5954 - accuracy: 0.4314 - val_loss: 0.5438 - val_accuracy: 0.4072\n",
            "Epoch 5/6\n",
            "73/73 [==============================] - 2s 34ms/step - loss: 0.5826 - accuracy: 0.4591 - val_loss: 0.5446 - val_accuracy: 0.4072\n",
            "Epoch 6/6\n",
            "73/73 [==============================] - 2s 33ms/step - loss: 0.5840 - accuracy: 0.4564 - val_loss: 0.5383 - val_accuracy: 0.4188\n"
          ]
        },
        {
          "output_type": "execute_result",
          "data": {
            "text/plain": [
              "<keras.callbacks.History at 0x7f1655873390>"
            ]
          },
          "metadata": {},
          "execution_count": 133
        }
      ]
    },
    {
      "metadata": {
        "id": "-ZCksVP5MCO7",
        "colab": {
          "base_uri": "https://localhost:8080/"
        },
        "outputId": "92806be6-b444-4020-9458-b86498db845a"
      },
      "cell_type": "code",
      "source": [
        "y_pred_c = model_conv_c.predict(X_test_c)\n",
        "y_pred_c = np.argmax(y_pred_c,axis=1)\n",
        "print(classification_report(y_test_c, y_pred_c, target_names = TASK_C_TARGET_NAMES))"
      ],
      "execution_count": null,
      "outputs": [
        {
          "output_type": "stream",
          "name": "stdout",
          "text": [
            "              precision    recall  f1-score   support\n",
            "\n",
            "         IND       0.82      0.56      0.66       482\n",
            "         OTH       0.13      0.76      0.22        74\n",
            "         GRP       0.14      0.00      0.01       220\n",
            "\n",
            "    accuracy                           0.42       776\n",
            "   macro avg       0.36      0.44      0.30       776\n",
            "weighted avg       0.56      0.42      0.44       776\n",
            "\n"
          ]
        }
      ]
    },
    {
      "metadata": {
        "id": "usIYn1mo4wSH"
      },
      "cell_type": "markdown",
      "source": [
        "# RNN - CNN + Bidirect LSTM"
      ]
    },
    {
      "cell_type": "code",
      "source": [
        "TASK_A_EPOCHS = 7\n",
        "TASK_A_TARGET_NAMES = [\"OFF\",'NOT']\n",
        "\n",
        "TASK_B_EPOCHS = 3\n",
        "TASK_B_TARGET_NAMES = [\"UNT\",'TIN']\n",
        "\n",
        "TASK_C_LOSS_FUNC = \"categorical_crossentropy\"\n",
        "TASK_C_EPOCHS = 2\n",
        "TASK_C_TARGET_NAMES = [\"IND\",'OTH', \"GRP\"]\n",
        "\n",
        "CLEAN_DATA = \"clean data\"\n",
        "PREDICTIONS = \"predictions\""
      ],
      "metadata": {
        "id": "5iJ1c2xQXlPD"
      },
      "execution_count": null,
      "outputs": []
    },
    {
      "cell_type": "code",
      "source": [
        "# UNCHANGABLE, CONSTS\n",
        "LOSS_FUNC = \"binary_crossentropy\"\n",
        "OPTIMIZER_A = Adam(lr=0.001)\n",
        "OPTIMIZER_B = \"adam\"\n",
        "METRICS_D = \"accuracy\""
      ],
      "metadata": {
        "id": "UDTRyL53XUTm"
      },
      "execution_count": null,
      "outputs": []
    },
    {
      "cell_type": "code",
      "source": [
        "def get_core_val(vocabulary_size, embedding_matrix, trainable, inp):\n",
        "  core_value = Embedding(vocabulary_size+1, EMBEDDING_SIZE, weights = [embedding_matrix], trainable = trainable)(inp)\n",
        "  core_value = SpatialDropout1D(0.5)(core_value)\n",
        "  core_value = Bidirectional(LSTM(128, return_sequences = True))(core_value)\n",
        "  core_value = Conv1D(64, kernel_size = 2, padding = \"valid\", kernel_initializer = \"he_uniform\")(core_value)\n",
        "  avg_pool = GlobalAveragePooling1D()(core_value)\n",
        "  max_pool = GlobalMaxPooling1D()(core_value)\n",
        "  core_value = concatenate([avg_pool, max_pool])\n",
        "  core_value = Dense(10, activation = \"relu\")(core_value)\n",
        "  return core_value"
      ],
      "metadata": {
        "id": "VFuFTRczVm1E"
      },
      "execution_count": null,
      "outputs": []
    },
    {
      "cell_type": "code",
      "source": [
        "def get_input_and_model_values(max_seq, vocabulary_size, embedding_matrix, trainable):\n",
        "  inp = Input(shape = (max_seq,))\n",
        "  core_value = get_core_val(vocabulary_size, embedding_matrix, trainable, inp)\n",
        "  \n",
        "  a = Dense(1, activation = \"sigmoid\")(core_value)\n",
        "  c = Dense(3, activation = \"softmax\")(core_value)\n",
        "  return inp, a, c"
      ],
      "metadata": {
        "id": "Arz02br7U-wF"
      },
      "execution_count": null,
      "outputs": []
    },
    {
      "metadata": {
        "id": "TSZ3aymfmKsE"
      },
      "cell_type": "code",
      "source": [
        "inp, a, c = get_input_and_model_values(max_seq, vocabulary_size, embedding_matrix, True)\n",
        "\n",
        "model_a = Model(inputs = inp, outputs = a)\n",
        "model_b = Model(inputs = inp, outputs = a)\n",
        "model_c = Model(inputs = inp, outputs = c)"
      ],
      "execution_count": null,
      "outputs": []
    },
    {
      "metadata": {
        "id": "00wNnenJUNCr"
      },
      "cell_type": "markdown",
      "source": [
        "Task A"
      ]
    },
    {
      "metadata": {
        "id": "AC1T3644hmnt",
        "colab": {
          "base_uri": "https://localhost:8080/"
        },
        "outputId": "ec2f130b-ec2e-4140-b408-01911629e1f3"
      },
      "cell_type": "code",
      "source": [
        "model_a.compile( loss = LOSS_FUNC, optimizer = OPTIMIZER_A, metrics = [METRICS_D])\n",
        "model_a.summary()"
      ],
      "execution_count": null,
      "outputs": [
        {
          "output_type": "stream",
          "name": "stdout",
          "text": [
            "Model: \"model_10\"\n",
            "__________________________________________________________________________________________________\n",
            " Layer (type)                   Output Shape         Param #     Connected to                     \n",
            "==================================================================================================\n",
            " input_5 (InputLayer)           [(None, 62)]         0           []                               \n",
            "                                                                                                  \n",
            " embedding_4 (Embedding)        (None, 62, 100)      2125100     ['input_5[0][0]']                \n",
            "                                                                                                  \n",
            " spatial_dropout1d_2 (SpatialDr  (None, 62, 100)     0           ['embedding_4[0][0]']            \n",
            " opout1D)                                                                                         \n",
            "                                                                                                  \n",
            " bidirectional_2 (Bidirectional  (None, 62, 256)     234496      ['spatial_dropout1d_2[0][0]']    \n",
            " )                                                                                                \n",
            "                                                                                                  \n",
            " conv1d_4 (Conv1D)              (None, 61, 64)       32832       ['bidirectional_2[0][0]']        \n",
            "                                                                                                  \n",
            " global_average_pooling1d_2 (Gl  (None, 64)          0           ['conv1d_4[0][0]']               \n",
            " obalAveragePooling1D)                                                                            \n",
            "                                                                                                  \n",
            " global_max_pooling1d_4 (Global  (None, 64)          0           ['conv1d_4[0][0]']               \n",
            " MaxPooling1D)                                                                                    \n",
            "                                                                                                  \n",
            " concatenate_2 (Concatenate)    (None, 128)          0           ['global_average_pooling1d_2[0][0\n",
            "                                                                 ]',                              \n",
            "                                                                  'global_max_pooling1d_4[0][0]'] \n",
            "                                                                                                  \n",
            " dense_11 (Dense)               (None, 10)           1290        ['concatenate_2[0][0]']          \n",
            "                                                                                                  \n",
            " dense_12 (Dense)               (None, 1)            11          ['dense_11[0][0]']               \n",
            "                                                                                                  \n",
            "==================================================================================================\n",
            "Total params: 2,393,729\n",
            "Trainable params: 2,393,729\n",
            "Non-trainable params: 0\n",
            "__________________________________________________________________________________________________\n"
          ]
        }
      ]
    },
    {
      "cell_type": "code",
      "source": [
        "def get_prediction(model, datas):\n",
        "  pred = model.predict(datas)\n",
        "  return pred > 0.5"
      ],
      "metadata": {
        "id": "1oONlXfxa0rV"
      },
      "execution_count": null,
      "outputs": []
    },
    {
      "cell_type": "code",
      "source": [
        "validation_data_a = (X_test_a,y_test_a)"
      ],
      "metadata": {
        "id": "_rpVbBfyanve"
      },
      "execution_count": null,
      "outputs": []
    },
    {
      "metadata": {
        "id": "Y6IWacJ4oAnF",
        "colab": {
          "base_uri": "https://localhost:8080/"
        },
        "outputId": "c5903eed-6495-4287-b794-31b0df2c1d40"
      },
      "cell_type": "code",
      "source": [
        "model_a.fit(np.array(X_train_a), np.array(y_train_a), validation_data=validation_data_a, epochs = TASK_A_EPOCHS)"
      ],
      "execution_count": null,
      "outputs": [
        {
          "output_type": "stream",
          "name": "stdout",
          "text": [
            "Epoch 1/7\n",
            "243/243 [==============================] - 53s 199ms/step - loss: 0.6738 - accuracy: 0.5760 - val_loss: 0.6677 - val_accuracy: 0.5827\n",
            "Epoch 2/7\n",
            "243/243 [==============================] - 46s 190ms/step - loss: 0.6268 - accuracy: 0.6362 - val_loss: 0.5984 - val_accuracy: 0.6809\n",
            "Epoch 3/7\n",
            "243/243 [==============================] - 47s 193ms/step - loss: 0.5865 - accuracy: 0.6783 - val_loss: 0.5893 - val_accuracy: 0.6888\n",
            "Epoch 4/7\n",
            "243/243 [==============================] - 46s 188ms/step - loss: 0.5615 - accuracy: 0.6982 - val_loss: 0.5769 - val_accuracy: 0.7013\n",
            "Epoch 5/7\n",
            "243/243 [==============================] - 46s 188ms/step - loss: 0.5287 - accuracy: 0.7306 - val_loss: 0.5742 - val_accuracy: 0.7145\n",
            "Epoch 6/7\n",
            "243/243 [==============================] - 48s 198ms/step - loss: 0.4955 - accuracy: 0.7522 - val_loss: 0.4995 - val_accuracy: 0.7625\n",
            "Epoch 7/7\n",
            "243/243 [==============================] - 46s 189ms/step - loss: 0.4696 - accuracy: 0.7772 - val_loss: 0.5947 - val_accuracy: 0.7111\n"
          ]
        },
        {
          "output_type": "execute_result",
          "data": {
            "text/plain": [
              "<keras.callbacks.History at 0x7f166907a690>"
            ]
          },
          "metadata": {},
          "execution_count": 94
        }
      ]
    },
    {
      "metadata": {
        "id": "OdLvjX06FtRa",
        "colab": {
          "base_uri": "https://localhost:8080/"
        },
        "outputId": "1493a3e5-3ecd-4b28-92c8-0bbb119bfc42"
      },
      "cell_type": "code",
      "source": [
        "y_pred_a = get_prediction(model_a, X_test_a)\n",
        "print(classification_report(y_test_a, y_pred_a, target_names = TASK_A_TARGET_NAMES))"
      ],
      "execution_count": null,
      "outputs": [
        {
          "output_type": "stream",
          "name": "stdout",
          "text": [
            "              precision    recall  f1-score   support\n",
            "\n",
            "         OFF       0.54      0.83      0.65       869\n",
            "         NOT       0.89      0.65      0.75      1779\n",
            "\n",
            "    accuracy                           0.71      2648\n",
            "   macro avg       0.71      0.74      0.70      2648\n",
            "weighted avg       0.77      0.71      0.72      2648\n",
            "\n"
          ]
        }
      ]
    },
    {
      "metadata": {
        "id": "gLyu9K_f3ZFc"
      },
      "cell_type": "code",
      "source": [
        "test_data_a[CLEAN_DATA] = test_data_a.tweet.apply(lambda x: clean_data(x)[0])\n",
        "sequences = tokenizer.texts_to_sequences(test_data_a[CLEAN_DATA])\n",
        "seq_test_a = pad_sequences(sequences, maxlen = max_seq)"
      ],
      "execution_count": null,
      "outputs": []
    },
    {
      "cell_type": "code",
      "source": [
        "def get_t_predictions(model, seq_data, number_to_label):\n",
        "  predictions = model.predict(seq_data)\n",
        "  predictions = predictions > 0.5\n",
        "  predictions = [number_to_label[int(v[0])] for v in predictions]"
      ],
      "metadata": {
        "id": "bIZCDw0lb1kN"
      },
      "execution_count": null,
      "outputs": []
    },
    {
      "cell_type": "code",
      "source": [
        "predictions = get_t_predictions(model_a, seq_test_a, number_to_label_a) "
      ],
      "metadata": {
        "id": "ZqRNJzZMbc7r"
      },
      "execution_count": null,
      "outputs": []
    },
    {
      "metadata": {
        "id": "eG1RLnf74AC8"
      },
      "cell_type": "code",
      "source": [
        "test_data_a[PREDICTIONS] = predictions\n",
        "reuslts= test_data_a[[\"id\", PREDICTIONS]]\n",
        "reuslts.to_csv(\"reuslts_a.csv\", index = False, header = False)"
      ],
      "execution_count": null,
      "outputs": []
    },
    {
      "metadata": {
        "id": "iXcuuxLAojiZ",
        "colab": {
          "base_uri": "https://localhost:8080/"
        },
        "outputId": "8e82b152-f94e-4982-bdca-26dc719c3d02"
      },
      "cell_type": "code",
      "source": [
        "model_b.compile(loss = LOSS_FUNC, optimizer = OPTIMIZER_B , metrics = [METRICS_D])\n",
        "model_b.fit(np.array(X_train_b), np.array(y_train_b), validation_data=(X_test_b,y_test_b), epochs = TASK_B_EPOCHS)"
      ],
      "execution_count": null,
      "outputs": [
        {
          "output_type": "stream",
          "name": "stdout",
          "text": [
            "Epoch 1/3\n",
            "43/43 [==============================] - 15s 237ms/step - loss: 0.7125 - accuracy: 0.5790 - val_loss: 0.7634 - val_accuracy: 0.5591\n",
            "Epoch 2/3\n",
            "43/43 [==============================] - 9s 202ms/step - loss: 0.6551 - accuracy: 0.6133 - val_loss: 0.6989 - val_accuracy: 0.7057\n",
            "Epoch 3/3\n",
            "43/43 [==============================] - 9s 198ms/step - loss: 0.6372 - accuracy: 0.6431 - val_loss: 0.6488 - val_accuracy: 0.7420\n"
          ]
        },
        {
          "output_type": "execute_result",
          "data": {
            "text/plain": [
              "<keras.callbacks.History at 0x7f165f0a5490>"
            ]
          },
          "metadata": {},
          "execution_count": 100
        }
      ]
    },
    {
      "metadata": {
        "id": "vh0ShMX6zM-D",
        "colab": {
          "base_uri": "https://localhost:8080/"
        },
        "outputId": "807d31e4-2542-475c-db17-1ae94d7b172a"
      },
      "cell_type": "code",
      "source": [
        "y_pred_b = get_prediction(model_b, X_test_b)\n",
        "print(classification_report(y_test_b, y_pred_b, target_names= TASK_B_TARGET_NAMES))"
      ],
      "execution_count": null,
      "outputs": [
        {
          "output_type": "stream",
          "name": "stdout",
          "text": [
            "              precision    recall  f1-score   support\n",
            "\n",
            "         UNT       0.22      0.44      0.29       106\n",
            "         TIN       0.91      0.78      0.84       774\n",
            "\n",
            "    accuracy                           0.74       880\n",
            "   macro avg       0.56      0.61      0.57       880\n",
            "weighted avg       0.83      0.74      0.78       880\n",
            "\n"
          ]
        }
      ]
    },
    {
      "metadata": {
        "id": "RdFCis_1aMSS"
      },
      "cell_type": "code",
      "source": [
        "test_data_b[CLEAN_DATA] = test_data_b.tweet.apply(lambda x: clean_data(x)[0])\n",
        "sequences = tokenizer.texts_to_sequences(test_data_b[CLEAN_DATA])\n",
        "seq_test_b = pad_sequences(sequences, maxlen = max_seq)"
      ],
      "execution_count": null,
      "outputs": []
    },
    {
      "cell_type": "code",
      "source": [
        "predictions = get_t_predictions(model_b, seq_test_b, number_to_label_b) "
      ],
      "metadata": {
        "id": "iLVAvsTcbmjA"
      },
      "execution_count": null,
      "outputs": []
    },
    {
      "metadata": {
        "id": "o82LjcBb68-e"
      },
      "cell_type": "code",
      "source": [
        "test_data_b[PREDICTIONS] = predictions\n",
        "reuslts= test_data_b[[\"id\", PREDICTIONS]]\n",
        "reuslts.to_csv(\"reuslts_b.csv\", index = False, header = False)"
      ],
      "execution_count": null,
      "outputs": []
    },
    {
      "metadata": {
        "id": "w-8-AeknoyvR",
        "colab": {
          "base_uri": "https://localhost:8080/"
        },
        "outputId": "3adf343a-fb94-4c45-87e4-c6c9d85d1fd8"
      },
      "cell_type": "code",
      "source": [
        "model_c.compile(loss = TASK_C_LOSS_FUNC, optimizer = OPTIMIZER_B, metrics = [METRICS_D])\n",
        "dummy_labels_train = keras.utils.np_utils.to_categorical(y_train_c)\n",
        "dummy_labels_test = keras.utils.np_utils.to_categorical(y_test_c)\n",
        "model_c.fit(np.array(X_train_c), dummy_labels_train, validation_data=(X_test_c,dummy_labels_test), epochs = TASK_C_EPOCHS)"
      ],
      "execution_count": null,
      "outputs": [
        {
          "output_type": "stream",
          "name": "stdout",
          "text": [
            "Epoch 1/2\n",
            "46/46 [==============================] - 14s 219ms/step - loss: 1.0629 - accuracy: 0.3968 - val_loss: 0.8689 - val_accuracy: 0.6405\n",
            "Epoch 2/2\n",
            "46/46 [==============================] - 9s 200ms/step - loss: 1.0279 - accuracy: 0.4695 - val_loss: 0.8392 - val_accuracy: 0.6753\n"
          ]
        },
        {
          "output_type": "execute_result",
          "data": {
            "text/plain": [
              "<keras.callbacks.History at 0x7f166cb88990>"
            ]
          },
          "metadata": {},
          "execution_count": 113
        }
      ]
    },
    {
      "metadata": {
        "id": "EmIFEqoGpSSI",
        "colab": {
          "base_uri": "https://localhost:8080/"
        },
        "outputId": "41d64083-ce50-4257-d37a-ea0cf3f577dc"
      },
      "cell_type": "code",
      "source": [
        "y_pred_c = model_c.predict(X_test_c)\n",
        "y_pred_c = np.argmax(y_pred_c,axis=1)\n",
        "print(classification_report(y_test_c, y_pred_c, target_names= TASK_C_TARGET_NAMES))"
      ],
      "execution_count": null,
      "outputs": [
        {
          "output_type": "stream",
          "name": "stdout",
          "text": [
            "              precision    recall  f1-score   support\n",
            "\n",
            "         IND       0.82      0.74      0.78       482\n",
            "         OTH       1.00      0.01      0.03        74\n",
            "         GRP       0.49      0.75      0.59       220\n",
            "\n",
            "    accuracy                           0.68       776\n",
            "   macro avg       0.77      0.50      0.47       776\n",
            "weighted avg       0.74      0.68      0.65       776\n",
            "\n"
          ]
        }
      ]
    },
    {
      "metadata": {
        "id": "cjkQCdZu77Xg"
      },
      "cell_type": "code",
      "source": [
        "test_data_c[CLEAN_DATA] = test_data_c.tweet.apply(lambda x: clean_data(x)[0])\n",
        "sequences = tokenizer.texts_to_sequences(test_data_c[CLEAN_DATA])\n",
        "seq_test_c = pad_sequences(sequences, maxlen = max_seq)"
      ],
      "execution_count": null,
      "outputs": []
    },
    {
      "cell_type": "code",
      "source": [
        "predictions = model_c.predict(seq_test_c)\n",
        "predictions = np.argmax(predictions,axis=1)\n",
        "predictions = [number_to_label_c[v] for v in predictions]"
      ],
      "metadata": {
        "id": "BeZKBi2Nbr5t"
      },
      "execution_count": null,
      "outputs": []
    },
    {
      "metadata": {
        "id": "Tv2C5l0T8z44"
      },
      "cell_type": "code",
      "source": [
        "test_data_c[PREDICTIONS] = predictions\n",
        "reuslts= test_data_c[[\"id\", PREDICTIONS]]\n",
        "reuslts.to_csv(\"reuslts_c.csv\", index = False, header = False)"
      ],
      "execution_count": null,
      "outputs": []
    },
    {
      "metadata": {
        "id": "EMcyazWKQQHb"
      },
      "cell_type": "markdown",
      "source": [
        "Hyper-parameter tuning: Bayesian optimisation"
      ]
    },
    {
      "metadata": {
        "id": "h_-UQUGRj0tb"
      },
      "cell_type": "code",
      "source": [
        "def train_Bayesian_Opt(params):\n",
        "  \n",
        "    inp = Input(shape = (max_seq,))\n",
        "\n",
        "    x = Embedding(vocabulary_size+1, EMBEDDING_SIZE, weights = [embedding_matrix], trainable = True)(inp)\n",
        "    x = SpatialDropout1D(0.5)(x)\n",
        "    x = Bidirectional(LSTM(128, return_sequences = True))(x)\n",
        "    x = Conv1D(64, kernel_size = 2, padding = \"valid\", kernel_initializer = \"he_uniform\")(x)\n",
        "    avg_pool = GlobalAveragePooling1D()(x)\n",
        "    max_pool = GlobalMaxPooling1D()(x)\n",
        "    x = concatenate([avg_pool, max_pool])\n",
        "    x = Dense(10, activation = \"relu\")(x)\n",
        "\n",
        "    a = Dense(1, activation = \"sigmoid\")(x)\n",
        "    model_a = Model(inputs = inp, outputs = a)\n",
        "    \n",
        "    model_a.compile( loss = \"binary_crossentropy\", optimizer = Adam(lr = params[0,0], decay = params[0,1]), metrics = [\"accuracy\"])\n",
        "    model_a.fit(np.array(X_train_a), np.array(y_train_a), validation_data=(X_test_a,y_test_a), epochs = 5)\n",
        "    y_pred_a = model_a.predict(X_test_a)\n",
        "    y_pred_a = y_pred_a>0.5\n",
        "    \n",
        "    return f1_score(y_test_a, y_pred_a, average = \"macro\")\n",
        "  "
      ],
      "execution_count": null,
      "outputs": []
    },
    {
      "cell_type": "code",
      "source": [
        "domain = [{'name': 'lr',  'type': 'continuous',  'domain': (0.0005,0.01)}, {'name': 'w_decay',  'type': 'continuous',  'domain': (0, 0.000001)}]\n",
        "opt = GPyOpt.methods.BayesianOptimization(f = train_Bayesian_Opt, domain = domain, acquisition_type ='LCB', acquisition_weight = 0.5)\n",
        "opt.run_optimization(max_iter=10)\n",
        "opt.plot_convergence()"
      ],
      "metadata": {
        "id": "453eBh7qwnW5"
      },
      "execution_count": null,
      "outputs": []
    }
  ]
}